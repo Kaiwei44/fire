{
 "cells": [
  {
   "cell_type": "code",
   "id": "initial_id",
   "metadata": {
    "collapsed": true,
    "ExecuteTime": {
     "end_time": "2025-05-14T08:38:54.234771Z",
     "start_time": "2025-05-14T08:38:48.379358Z"
    }
   },
   "source": [
    "import firefin\n",
    "import pandas as pd\n",
    "from grs import grs_test\n",
    "from regression import RollingRegressor\n"
   ],
   "outputs": [],
   "execution_count": 1
  },
  {
   "metadata": {
    "ExecuteTime": {
     "end_time": "2025-05-14T08:38:55.490961Z",
     "start_time": "2025-05-14T08:38:55.481813Z"
    }
   },
   "cell_type": "code",
   "source": [
    "#custumize\n",
    "def customize_parameter(N_asset: int, T_time: int, windowsize: int, regression_until):\n",
    "    return N_asset, T_time, windowsize, regression_until\n",
    "\n",
    "N_asset, T_time, windowsize, regression_until = customize_parameter(\n",
    "    50, 200, 60, \"2009-10-26 15:00:00\"\n",
    ")"
   ],
   "id": "813959361c2bf43d",
   "outputs": [],
   "execution_count": 2
  },
  {
   "metadata": {
    "ExecuteTime": {
     "end_time": "2025-05-12T13:20:47.668960Z",
     "start_time": "2025-05-12T13:20:46.246260Z"
    }
   },
   "cell_type": "code",
   "source": [
    "#get data\n",
    "data = firefin.fetch_data([\"return_adj\", \"cn_bond_30y\"])\n",
    "df2 = data[\"return_adj\"]\n",
    "thirty_year_bond=data[\"cn_bond_30y\"]\n",
    "#you can change the following scale of dataframe that align with your purpose\n",
    "df3=df2.iloc[:T_time]\n",
    "df2=df2.iloc[:T_time,:N_asset]\n"
   ],
   "id": "bc2d3a1aca8a1819",
   "outputs": [
    {
     "name": "stderr",
     "output_type": "stream",
     "text": [
      "D:\\Anaconda\\envs\\firefin\\Lib\\site-packages\\firefin\\data\\gateway.py:85: UserWarning: Could not infer format, so each element will be parsed individually, falling back to `dateutil`. To ensure parsing is consistent and as-expected, please specify a format.\n",
      "  pd.to_datetime(obj)\n",
      "D:\\Anaconda\\envs\\firefin\\Lib\\site-packages\\firefin\\data\\gateway.py:85: UserWarning: Could not infer format, so each element will be parsed individually, falling back to `dateutil`. To ensure parsing is consistent and as-expected, please specify a format.\n",
      "  pd.to_datetime(obj)\n",
      "\u001B[32m2025-05-12 21:20:46.264\u001B[0m | \u001B[33m\u001B[1mWARNING \u001B[0m | \u001B[36mfirefin.data.gateway\u001B[0m:\u001B[36mfetch_data\u001B[0m:\u001B[36m143\u001B[0m - \u001B[33m\u001B[1mcn_bond_30y is not a valid data name, mock with random data\u001B[0m\n"
     ]
    },
    {
     "name": "stdout",
     "output_type": "stream",
     "text": [
      "stock_code           000001.SZ  000002.SZ  000004.SZ  000005.SZ  000006.SZ  \\\n",
      "datetime                                                                     \n",
      "2009-01-05 15:00:00   0.026427   0.038760   0.036517   0.032258   0.050710   \n",
      "2009-01-06 15:00:00   0.060762   0.029851   0.029810   0.031250   0.040541   \n",
      "2009-01-07 15:00:00  -0.030097  -0.005797   0.050000  -0.011364  -0.007421   \n",
      "2009-01-08 15:00:00  -0.039039   0.005831   0.050125  -0.026820  -0.018692   \n",
      "2009-01-09 15:00:00   0.026042  -0.001449   0.038186   0.043307   0.009524   \n",
      "\n",
      "stock_code           000007.SZ  000008.SZ  000009.SZ  000010.SZ  000011.SZ  \\\n",
      "datetime                                                                     \n",
      "2009-01-05 15:00:00   0.046296   0.022624   0.037688   0.019380   0.005141   \n",
      "2009-01-06 15:00:00   0.032448   0.030974   0.038741   0.020913   0.033248   \n",
      "2009-01-07 15:00:00  -0.031429   0.012875  -0.006993   0.020484   0.007426   \n",
      "2009-01-08 15:00:00   0.035398   0.025424  -0.032864   0.012774   0.002457   \n",
      "2009-01-09 15:00:00   0.000000   0.018595   0.036408   0.007207   0.024510   \n",
      "\n",
      "stock_code           ...  688787.SH  688788.SH  688789.SH  688793.SH  \\\n",
      "datetime             ...                                               \n",
      "2009-01-05 15:00:00  ...        NaN        NaN        NaN        NaN   \n",
      "2009-01-06 15:00:00  ...        NaN        NaN        NaN        NaN   \n",
      "2009-01-07 15:00:00  ...        NaN        NaN        NaN        NaN   \n",
      "2009-01-08 15:00:00  ...        NaN        NaN        NaN        NaN   \n",
      "2009-01-09 15:00:00  ...        NaN        NaN        NaN        NaN   \n",
      "\n",
      "stock_code           688798.SH  688799.SH  688800.SH  688819.SH  688981.SH  \\\n",
      "datetime                                                                     \n",
      "2009-01-05 15:00:00        NaN        NaN        NaN        NaN        NaN   \n",
      "2009-01-06 15:00:00        NaN        NaN        NaN        NaN        NaN   \n",
      "2009-01-07 15:00:00        NaN        NaN        NaN        NaN        NaN   \n",
      "2009-01-08 15:00:00        NaN        NaN        NaN        NaN        NaN   \n",
      "2009-01-09 15:00:00        NaN        NaN        NaN        NaN        NaN   \n",
      "\n",
      "stock_code           689009.SH  \n",
      "datetime                        \n",
      "2009-01-05 15:00:00        NaN  \n",
      "2009-01-06 15:00:00        NaN  \n",
      "2009-01-07 15:00:00        NaN  \n",
      "2009-01-08 15:00:00        NaN  \n",
      "2009-01-09 15:00:00        NaN  \n",
      "\n",
      "[5 rows x 5274 columns]\n",
      "stock_code  000000.SZ  000001.SZ  000002.SZ  000003.SZ  000004.SZ  000005.SZ  \\\n",
      "trade_date                                                                     \n",
      "2010-01-01   0.567346   0.157367   0.528409   0.035280   0.077141   0.492795   \n",
      "2010-01-02   0.996083   0.315477   0.291012   0.026894   0.949242   0.723320   \n",
      "2010-01-03   0.317381   0.806694   0.131318   0.086809   0.557051   0.678058   \n",
      "2010-01-04   0.345999   0.638698   0.652505   0.702304   0.140376   0.024017   \n",
      "2010-01-05   0.759285   0.593607   0.571480   0.715031   0.201902   0.029339   \n",
      "\n",
      "stock_code  000006.SZ  000007.SZ  000008.SZ  000009.SZ  ...  005264.SZ  \\\n",
      "trade_date                                              ...              \n",
      "2010-01-01   0.929115   0.822594   0.490462   0.028985  ...   0.604535   \n",
      "2010-01-02   0.590795   0.971034   0.316441   0.471150  ...   0.757654   \n",
      "2010-01-03   0.175181   0.738832   0.636566   0.161387  ...   0.534337   \n",
      "2010-01-04   0.634174   0.711399   0.973570   0.975111  ...   0.409469   \n",
      "2010-01-05   0.396044   0.658500   0.095169   0.072576  ...   0.549965   \n",
      "\n",
      "stock_code  005265.SZ  005266.SZ  005267.SZ  005268.SZ  005269.SZ  005270.SZ  \\\n",
      "trade_date                                                                     \n",
      "2010-01-01   0.815271   0.587803   0.870001   0.674885   0.616113   0.337908   \n",
      "2010-01-02   0.643583   0.499680   0.933725   0.898807   0.186091   0.660673   \n",
      "2010-01-03   0.034304   0.874600   0.427571   0.299131   0.459551   0.268948   \n",
      "2010-01-04   0.509909   0.450852   0.256728   0.814756   0.602438   0.043485   \n",
      "2010-01-05   0.941844   0.227364   0.678397   0.845333   0.908744   0.009471   \n",
      "\n",
      "stock_code  005271.SZ  005272.SZ  005273.SZ  \n",
      "trade_date                                   \n",
      "2010-01-01   0.887021   0.666603   0.888344  \n",
      "2010-01-02   0.507666   0.798101   0.216368  \n",
      "2010-01-03   0.155150   0.594462   0.529031  \n",
      "2010-01-04   0.804209   0.414958   0.942324  \n",
      "2010-01-05   0.874154   0.907470   0.780462  \n",
      "\n",
      "[5 rows x 5274 columns]\n"
     ]
    }
   ],
   "execution_count": 5
  },
  {
   "metadata": {},
   "cell_type": "code",
   "outputs": [],
   "execution_count": null,
   "source": [
    "market_data = df2.fillna(0)\n",
    "T=market_data.shape[0]\n",
    "N=market_data.shape[1]\n",
    "thirty_year_bond = thirty_year_bond.head(T)\n",
    "thirty_year_bond['cn_bond_30y']=(1+thirty_year_bond['cn_bond_30y']/100)**(1/365)-1\n",
    "\n",
    "# 对齐到 market_data 的每一个时间戳上：\n",
    "thirty_year_bonds = thirty_year_bond['cn_bond_30y'].reindex(market_data.index, method='ffill')\n",
    "# 然后按行相加：\n",
    "stocks_excess_return = market_data.add(-thirty_year_bonds, axis=0)\n",
    "#构造市场因子\n",
    "market_excess_return=df3.mean(axis=1).add(-thirty_year_bonds, axis=0)\n",
    "market_excess_return_matrix=pd.concat([market_excess_return]*N, axis=1)\n",
    "market_excess_return_matrix.columns = market_data.columns"
   ],
   "id": "faad290caefa24db"
  },
  {
   "metadata": {},
   "cell_type": "code",
   "outputs": [],
   "execution_count": null,
   "source": [
    "reg = RollingRegressor(\n",
    "    x=market_excess_return,\n",
    "    y=stocks_excess_return,\n",
    "    mode=\"single\",\n",
    "    fit_intercept=True\n",
    ")\n",
    "window_size=windowsize              #输入窗口大小\n",
    "result=reg.fit(window_size)"
   ],
   "id": "47d04e4299db95c3"
  },
  {
   "metadata": {},
   "cell_type": "code",
   "outputs": [],
   "execution_count": null,
   "source": [
    "alpha=result.alpha\n",
    "beta=result.beta\n",
    "residual=result.residuals\n",
    "grs_test(residual, alpha,regression_until, window_size, market_excess_return)"
   ],
   "id": "878f7977dfa32e8b"
  }
 ],
 "metadata": {
  "kernelspec": {
   "display_name": "Python 3",
   "language": "python",
   "name": "python3"
  },
  "language_info": {
   "codemirror_mode": {
    "name": "ipython",
    "version": 2
   },
   "file_extension": ".py",
   "mimetype": "text/x-python",
   "name": "python",
   "nbconvert_exporter": "python",
   "pygments_lexer": "ipython2",
   "version": "2.7.6"
  }
 },
 "nbformat": 4,
 "nbformat_minor": 5
}
