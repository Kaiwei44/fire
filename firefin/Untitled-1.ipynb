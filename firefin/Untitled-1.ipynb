{
 "cells": [
  {
   "cell_type": "code",
   "execution_count": 2,
   "metadata": {},
   "outputs": [],
   "source": [
    "from firefin.data import fetch_data\n",
    "from firefin.evaluation.eva_utils import compute_forward_returns\n",
    "from firefin.compute.window import ts_corr\n",
    "# fetch data"
   ]
  },
  {
   "cell_type": "code",
   "execution_count": 3,
   "metadata": {},
   "outputs": [
    {
     "name": "stderr",
     "output_type": "stream",
     "text": [
      "/home/baochen/fire/firefin/data/gateway.py:81: UserWarning: Could not infer format, so each element will be parsed individually, falling back to `dateutil`. To ensure parsing is consistent and as-expected, please specify a format.\n",
      "  pd.to_datetime(obj)\n",
      "/home/baochen/fire/firefin/data/gateway.py:81: UserWarning: Could not infer format, so each element will be parsed individually, falling back to `dateutil`. To ensure parsing is consistent and as-expected, please specify a format.\n",
      "  pd.to_datetime(obj)\n"
     ]
    }
   ],
   "source": [
    "data = fetch_data(['open','close','volume','return_adj'])\n",
    "\n",
    "# compute pv correlation\n",
    "def pv_corr(close, volume):\n",
    "    return ts_corr(close, volume, 5, method=\"pearson\")\n",
    "\n",
    "# compute factor\n",
    "factor = pv_corr(data[\"close\"], data[\"volume\"])\n",
    "\n",
    "# compute forward returns\n",
    "fr = compute_forward_returns(data[\"open\"].shift(-1), [1, 5, 10])"
   ]
  },
  {
   "cell_type": "code",
   "execution_count": 4,
   "metadata": {},
   "outputs": [
    {
     "ename": "SyntaxError",
     "evalue": "invalid syntax (1959215239.py, line 2)",
     "output_type": "error",
     "traceback": [
      "\u001b[0;36m  Cell \u001b[0;32mIn[4], line 2\u001b[0;36m\u001b[0m\n\u001b[0;31m    from firefin.evaluation.academia. import AcaEvaluatorModel\u001b[0m\n\u001b[0m                                      ^\u001b[0m\n\u001b[0;31mSyntaxError\u001b[0m\u001b[0;31m:\u001b[0m invalid syntax\n"
     ]
    }
   ],
   "source": [
    "# compute academia evaluation\n",
    "from firefin.evaluation.academia.AcaEvaluatorModel import AcaEvaluatorModel\n",
    "\n",
    "mng = AcaEvaluatorModel(factor=factor, forward_returns=fr, return_adj=data[\"return_adj\"], n_jobs=24, verbose=10)\n",
    "mng.run_all()"
   ]
  },
  {
   "cell_type": "code",
   "execution_count": null,
   "metadata": {},
   "outputs": [],
   "source": []
  }
 ],
 "metadata": {
  "kernelspec": {
   "display_name": "base",
   "language": "python",
   "name": "python3"
  },
  "language_info": {
   "codemirror_mode": {
    "name": "ipython",
    "version": 3
   },
   "file_extension": ".py",
   "mimetype": "text/x-python",
   "name": "python",
   "nbconvert_exporter": "python",
   "pygments_lexer": "ipython3",
   "version": "3.12.2"
  }
 },
 "nbformat": 4,
 "nbformat_minor": 2
}
